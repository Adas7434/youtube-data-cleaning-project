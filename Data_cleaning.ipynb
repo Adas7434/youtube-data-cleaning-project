{
 "cells": [
  {
   "cell_type": "code",
   "execution_count": 109,
   "metadata": {},
   "outputs": [],
   "source": [
    "import numpy as np\n",
    "import pandas as pd\n",
    "import matplotlib.pyplot as plt\n",
    "import seaborn as sns\n",
    "import re\n"
   ]
  },
  {
   "cell_type": "code",
   "execution_count": 110,
   "metadata": {},
   "outputs": [
    {
     "data": {
      "text/html": [
       "<div>\n",
       "<style scoped>\n",
       "    .dataframe tbody tr th:only-of-type {\n",
       "        vertical-align: middle;\n",
       "    }\n",
       "\n",
       "    .dataframe tbody tr th {\n",
       "        vertical-align: top;\n",
       "    }\n",
       "\n",
       "    .dataframe thead th {\n",
       "        text-align: right;\n",
       "    }\n",
       "</style>\n",
       "<table border=\"1\" class=\"dataframe\">\n",
       "  <thead>\n",
       "    <tr style=\"text-align: right;\">\n",
       "      <th></th>\n",
       "      <th>url</th>\n",
       "      <th>Timestamp</th>\n",
       "      <th>Title</th>\n",
       "      <th>Views</th>\n",
       "      <th>upload_date</th>\n",
       "      <th>Likes</th>\n",
       "      <th>Dislikes</th>\n",
       "      <th>Comments</th>\n",
       "    </tr>\n",
       "  </thead>\n",
       "  <tbody>\n",
       "    <tr>\n",
       "      <th>0</th>\n",
       "      <td>https://www.youtube.com/watch?v=8g6GpkOvxZ8</td>\n",
       "      <td>27/07/2020 16:36:01</td>\n",
       "      <td>GATE 2020 Topper | Hitesh Poply (CS, AIR-1) | ...</td>\n",
       "      <td>46,489 views</td>\n",
       "      <td>14 Mar 2020</td>\n",
       "      <td>1.7K</td>\n",
       "      <td>32</td>\n",
       "      <td>Coding Intelligence - I am pretty sure ..... G...</td>\n",
       "    </tr>\n",
       "    <tr>\n",
       "      <th>1</th>\n",
       "      <td>https://www.youtube.com/watch?v=tN2j075NLQc&amp;li...</td>\n",
       "      <td>27/07/2020 16:36:05</td>\n",
       "      <td>Kevin Gates - Grandmotha Grave [Official Music...</td>\n",
       "      <td>8,398,588 views</td>\n",
       "      <td>27 May 2020</td>\n",
       "      <td>NaN</td>\n",
       "      <td>NaN</td>\n",
       "      <td>Monquavis Edwards - Gates hasnt dropped a wack...</td>\n",
       "    </tr>\n",
       "    <tr>\n",
       "      <th>2</th>\n",
       "      <td>https://www.youtube.com/watch?v=MgODUPrkVno</td>\n",
       "      <td>27/07/2020 16:36:09</td>\n",
       "      <td>GATE 2020 Computer Science Paper Detailed Solu...</td>\n",
       "      <td>16,927 views</td>\n",
       "      <td>Streamed live on 8 Feb 2020</td>\n",
       "      <td>218</td>\n",
       "      <td>17</td>\n",
       "      <td>sum 123 - Sir profit % ke liye upon me 3000 ky...</td>\n",
       "    </tr>\n",
       "    <tr>\n",
       "      <th>3</th>\n",
       "      <td>https://www.youtube.com/watch?v=MVgCUVf1m90</td>\n",
       "      <td>27/07/2020 16:36:13</td>\n",
       "      <td>GATE 2020 AIR 43 Rahul Sharma</td>\n",
       "      <td>9,986 views</td>\n",
       "      <td>9 Jun 2020</td>\n",
       "      <td>584</td>\n",
       "      <td>4</td>\n",
       "      <td>Akash Gautam - Who is your real Hero??\\nOther ...</td>\n",
       "    </tr>\n",
       "    <tr>\n",
       "      <th>4</th>\n",
       "      <td>https://www.youtube.com/watch?v=ybsh1C8QpY0</td>\n",
       "      <td>27/07/2020 16:36:17</td>\n",
       "      <td>How To attempt GATE -Exam-2020 in best way</td>\n",
       "      <td>306,322 views</td>\n",
       "      <td>31 Jan 2019</td>\n",
       "      <td>8.2K</td>\n",
       "      <td>202</td>\n",
       "      <td>- By Mistake total no of 2 marks questions is...</td>\n",
       "    </tr>\n",
       "    <tr>\n",
       "      <th>...</th>\n",
       "      <td>...</td>\n",
       "      <td>...</td>\n",
       "      <td>...</td>\n",
       "      <td>...</td>\n",
       "      <td>...</td>\n",
       "      <td>...</td>\n",
       "      <td>...</td>\n",
       "      <td>...</td>\n",
       "    </tr>\n",
       "    <tr>\n",
       "      <th>496</th>\n",
       "      <td>https://www.youtube.com/watch?v=cyRYtFA7PTc</td>\n",
       "      <td>27/07/2020 17:09:07</td>\n",
       "      <td>GATE EE 2020 | How to stay Motivated during Pr...</td>\n",
       "      <td>1,508 views</td>\n",
       "      <td>Streamed live on 15 Jan 2020</td>\n",
       "      <td>60</td>\n",
       "      <td>2</td>\n",
       "      <td>- Vision 2021: A Course for ESE &amp; GATE Aspira...</td>\n",
       "    </tr>\n",
       "    <tr>\n",
       "      <th>497</th>\n",
       "      <td>https://www.youtube.com/watch?v=ZGQSrUzTr5I</td>\n",
       "      <td>27/07/2020 17:09:11</td>\n",
       "      <td>Life after securing AIR 1 in GATE / Why to tar...</td>\n",
       "      <td>117,631 views</td>\n",
       "      <td>17 Sep 2018</td>\n",
       "      <td>3.9K</td>\n",
       "      <td>256</td>\n",
       "      <td>shivam kumar - Jiya ho bihar ke lala || SHIVEN...</td>\n",
       "    </tr>\n",
       "    <tr>\n",
       "      <th>498</th>\n",
       "      <td>https://www.youtube.com/watch?v=mzr3ASusaAs</td>\n",
       "      <td>27/07/2020 17:09:15</td>\n",
       "      <td>GATE 2020 Paper Analysis by GATEFORUM</td>\n",
       "      <td>1,146 views</td>\n",
       "      <td>31 Jan 2020</td>\n",
       "      <td>9</td>\n",
       "      <td>3</td>\n",
       "      <td>NaN</td>\n",
       "    </tr>\n",
       "    <tr>\n",
       "      <th>499</th>\n",
       "      <td>https://youtu.be/XhZ1w3saRiI</td>\n",
       "      <td>27/07/2020 17:09:19</td>\n",
       "      <td>Raipur के Kalpit ने किया कमाल | GATE 2020 में ...</td>\n",
       "      <td>3,041 views</td>\n",
       "      <td>14 Mar 2020</td>\n",
       "      <td>97</td>\n",
       "      <td>1</td>\n",
       "      <td>NaN</td>\n",
       "    </tr>\n",
       "    <tr>\n",
       "      <th>500</th>\n",
       "      <td>https://youtu.be/ZxxG0s869oQ</td>\n",
       "      <td>27/07/2020 17:09:23</td>\n",
       "      <td>Pawan Kumar Reddy All India 1st Rank in Electr...</td>\n",
       "      <td>27,966 views</td>\n",
       "      <td>15 Mar 2020</td>\n",
       "      <td>809</td>\n",
       "      <td>22</td>\n",
       "      <td>NaN</td>\n",
       "    </tr>\n",
       "  </tbody>\n",
       "</table>\n",
       "<p>501 rows × 8 columns</p>\n",
       "</div>"
      ],
      "text/plain": [
       "                                                   url            Timestamp  \\\n",
       "0          https://www.youtube.com/watch?v=8g6GpkOvxZ8  27/07/2020 16:36:01   \n",
       "1    https://www.youtube.com/watch?v=tN2j075NLQc&li...  27/07/2020 16:36:05   \n",
       "2          https://www.youtube.com/watch?v=MgODUPrkVno  27/07/2020 16:36:09   \n",
       "3          https://www.youtube.com/watch?v=MVgCUVf1m90  27/07/2020 16:36:13   \n",
       "4          https://www.youtube.com/watch?v=ybsh1C8QpY0  27/07/2020 16:36:17   \n",
       "..                                                 ...                  ...   \n",
       "496        https://www.youtube.com/watch?v=cyRYtFA7PTc  27/07/2020 17:09:07   \n",
       "497        https://www.youtube.com/watch?v=ZGQSrUzTr5I  27/07/2020 17:09:11   \n",
       "498        https://www.youtube.com/watch?v=mzr3ASusaAs  27/07/2020 17:09:15   \n",
       "499                       https://youtu.be/XhZ1w3saRiI  27/07/2020 17:09:19   \n",
       "500                       https://youtu.be/ZxxG0s869oQ  27/07/2020 17:09:23   \n",
       "\n",
       "                                                 Title            Views  \\\n",
       "0    GATE 2020 Topper | Hitesh Poply (CS, AIR-1) | ...     46,489 views   \n",
       "1    Kevin Gates - Grandmotha Grave [Official Music...  8,398,588 views   \n",
       "2    GATE 2020 Computer Science Paper Detailed Solu...     16,927 views   \n",
       "3                        GATE 2020 AIR 43 Rahul Sharma      9,986 views   \n",
       "4           How To attempt GATE -Exam-2020 in best way    306,322 views   \n",
       "..                                                 ...              ...   \n",
       "496  GATE EE 2020 | How to stay Motivated during Pr...      1,508 views   \n",
       "497  Life after securing AIR 1 in GATE / Why to tar...    117,631 views   \n",
       "498              GATE 2020 Paper Analysis by GATEFORUM      1,146 views   \n",
       "499  Raipur के Kalpit ने किया कमाल | GATE 2020 में ...      3,041 views   \n",
       "500  Pawan Kumar Reddy All India 1st Rank in Electr...     27,966 views   \n",
       "\n",
       "                      upload_date Likes Dislikes  \\\n",
       "0                     14 Mar 2020  1.7K       32   \n",
       "1                     27 May 2020   NaN      NaN   \n",
       "2     Streamed live on 8 Feb 2020   218       17   \n",
       "3                      9 Jun 2020   584        4   \n",
       "4                     31 Jan 2019  8.2K      202   \n",
       "..                            ...   ...      ...   \n",
       "496  Streamed live on 15 Jan 2020    60        2   \n",
       "497                   17 Sep 2018  3.9K      256   \n",
       "498                   31 Jan 2020     9        3   \n",
       "499                   14 Mar 2020    97        1   \n",
       "500                   15 Mar 2020   809       22   \n",
       "\n",
       "                                              Comments  \n",
       "0    Coding Intelligence - I am pretty sure ..... G...  \n",
       "1    Monquavis Edwards - Gates hasnt dropped a wack...  \n",
       "2    sum 123 - Sir profit % ke liye upon me 3000 ky...  \n",
       "3    Akash Gautam - Who is your real Hero??\\nOther ...  \n",
       "4     - By Mistake total no of 2 marks questions is...  \n",
       "..                                                 ...  \n",
       "496   - Vision 2021: A Course for ESE & GATE Aspira...  \n",
       "497  shivam kumar - Jiya ho bihar ke lala || SHIVEN...  \n",
       "498                                                NaN  \n",
       "499                                                NaN  \n",
       "500                                                NaN  \n",
       "\n",
       "[501 rows x 8 columns]"
      ]
     },
     "execution_count": 110,
     "metadata": {},
     "output_type": "execute_result"
    }
   ],
   "source": [
    "df = pd.read_csv(r'C:\\Users\\user\\Desktop\\Data\\YouTube_data.csv')\n",
    "df"
   ]
  },
  {
   "cell_type": "code",
   "execution_count": 111,
   "metadata": {},
   "outputs": [
    {
     "data": {
      "text/plain": [
       "(501, 8)"
      ]
     },
     "execution_count": 111,
     "metadata": {},
     "output_type": "execute_result"
    }
   ],
   "source": [
    "df.shape"
   ]
  },
  {
   "cell_type": "markdown",
   "metadata": {},
   "source": [
    "splitting the number of views from the string 'views' and then converting it to an integer"
   ]
  },
  {
   "cell_type": "code",
   "execution_count": 112,
   "metadata": {},
   "outputs": [],
   "source": [
    "df[['views_num', 'view_str']] = df['Views'].str.split(' ', expand=True)\n",
    "df['views_num'] = df['views_num'].str.replace(',', '')\n",
    "df['views_num'] = pd.to_numeric(df['views_num'])"
   ]
  },
  {
   "cell_type": "markdown",
   "metadata": {},
   "source": [
    "Replaced the str in the Like and dislike columns with NaN values "
   ]
  },
  {
   "cell_type": "code",
   "execution_count": 113,
   "metadata": {},
   "outputs": [],
   "source": [
    "df.loc[254, 'Dislikes'] = np.nan\n",
    "df.loc[254, 'Likes'] = np.nan"
   ]
  },
  {
   "cell_type": "markdown",
   "metadata": {},
   "source": [
    "Standardazation of the Likes column to remove off the string characters from the numeric characters"
   ]
  },
  {
   "cell_type": "code",
   "execution_count": 114,
   "metadata": {},
   "outputs": [],
   "source": [
    "def likes_converter(value):\n",
    "    if pd.isna(value):\n",
    "        return np.nan\n",
    "    elif isinstance(value, str) and 'K' in value:\n",
    "        try:\n",
    "            return int(float(value.replace('K', '')) * 1000)\n",
    "        except ValueError:\n",
    "            return np.nan\n",
    "    else:\n",
    "        try:\n",
    "            return int(value)\n",
    "        except ValueError:\n",
    "            return np.nan\n",
    "    \n",
    "df = df[~df['Likes'].str.contains('LIE', na=False)]\n",
    "df['Likes'] = df['Likes'].apply(likes_converter)"
   ]
  },
  {
   "cell_type": "markdown",
   "metadata": {},
   "source": [
    "Used regex to parse out the date uploaded from the column of upload date which had other characters"
   ]
  },
  {
   "cell_type": "code",
   "execution_count": 115,
   "metadata": {},
   "outputs": [],
   "source": [
    "date_pattern = r'(\\b\\d{1,2}\\s\\w+\\s\\w{4}\\b)'\n",
    "df['date_uploaded'] = df['upload_date'].str.extract(date_pattern)\n",
    "df['date_uploaded'] = pd.to_datetime(df['date_uploaded'])"
   ]
  },
  {
   "cell_type": "markdown",
   "metadata": {},
   "source": [
    "Standardazation of the Dislikes column to remove off the string characters from the numeric characters"
   ]
  },
  {
   "cell_type": "code",
   "execution_count": 116,
   "metadata": {},
   "outputs": [],
   "source": [
    "def dislike_converter(value):\n",
    "    if pd.isna(value):\n",
    "        return np.nan\n",
    "    elif isinstance(value, str) and 'K' in value:\n",
    "        try:\n",
    "            return int(float(value.replace('K', '')) * 1000)\n",
    "        except ValueError:\n",
    "            return np.nan\n",
    "    else:\n",
    "        try:\n",
    "            return int(value)\n",
    "        except ValueError:\n",
    "            return np.nan\n",
    "        \n",
    "\n",
    "df['Dislikes'] = df['Dislikes'].apply(dislike_converter)"
   ]
  },
  {
   "cell_type": "code",
   "execution_count": 117,
   "metadata": {},
   "outputs": [
    {
     "data": {
      "text/plain": [
       "url               0\n",
       "Timestamp         0\n",
       "Title             0\n",
       "Views             0\n",
       "upload_date       0\n",
       "Likes            20\n",
       "Dislikes         20\n",
       "Comments         64\n",
       "views_num         0\n",
       "view_str          0\n",
       "date_uploaded     0\n",
       "dtype: int64"
      ]
     },
     "execution_count": 117,
     "metadata": {},
     "output_type": "execute_result"
    }
   ],
   "source": [
    "df.isnull().sum()"
   ]
  },
  {
   "cell_type": "code",
   "execution_count": 124,
   "metadata": {},
   "outputs": [
    {
     "name": "stdout",
     "output_type": "stream",
     "text": [
      "1.887134821266558\n"
     ]
    }
   ],
   "source": [
    "def missing_data_percentage(df):\n",
    "    total_data = df.size\n",
    "    missing_data = df.isnull().sum().sum()\n",
    "    percentage = (missing_data / total_data) * 100\n",
    "    return percentage\n",
    "\n",
    "print(missing_data_percentage(df))"
   ]
  },
  {
   "cell_type": "code",
   "execution_count": 126,
   "metadata": {},
   "outputs": [],
   "source": [
    "df.dropna(inplace=True)"
   ]
  },
  {
   "cell_type": "code",
   "execution_count": 129,
   "metadata": {},
   "outputs": [
    {
     "data": {
      "text/plain": [
       "np.int64(0)"
      ]
     },
     "execution_count": 129,
     "metadata": {},
     "output_type": "execute_result"
    }
   ],
   "source": [
    "df.duplicated().sum()"
   ]
  },
  {
   "cell_type": "code",
   "execution_count": 130,
   "metadata": {},
   "outputs": [
    {
     "data": {
      "text/plain": [
       "url                      object\n",
       "Timestamp                object\n",
       "Title                    object\n",
       "Views                    object\n",
       "upload_date              object\n",
       "Likes                   float64\n",
       "Dislikes                float64\n",
       "Comments                 object\n",
       "views_num                 int64\n",
       "view_str                 object\n",
       "date_uploaded    datetime64[ns]\n",
       "dtype: object"
      ]
     },
     "execution_count": 130,
     "metadata": {},
     "output_type": "execute_result"
    }
   ],
   "source": [
    "df.dtypes"
   ]
  },
  {
   "cell_type": "markdown",
   "metadata": {},
   "source": [
    "dropped off all the unnecessary columns"
   ]
  },
  {
   "cell_type": "code",
   "execution_count": 133,
   "metadata": {},
   "outputs": [],
   "source": [
    "keep_col = ['url', 'Title', 'date_uploaded', 'views_num', 'view_str', 'Likes', 'Dislikes', 'Comments']\n",
    "youtube_clean_data = df[keep_col]"
   ]
  },
  {
   "cell_type": "code",
   "execution_count": 134,
   "metadata": {},
   "outputs": [
    {
     "data": {
      "text/html": [
       "<div>\n",
       "<style scoped>\n",
       "    .dataframe tbody tr th:only-of-type {\n",
       "        vertical-align: middle;\n",
       "    }\n",
       "\n",
       "    .dataframe tbody tr th {\n",
       "        vertical-align: top;\n",
       "    }\n",
       "\n",
       "    .dataframe thead th {\n",
       "        text-align: right;\n",
       "    }\n",
       "</style>\n",
       "<table border=\"1\" class=\"dataframe\">\n",
       "  <thead>\n",
       "    <tr style=\"text-align: right;\">\n",
       "      <th></th>\n",
       "      <th>url</th>\n",
       "      <th>Title</th>\n",
       "      <th>date_uploaded</th>\n",
       "      <th>views_num</th>\n",
       "      <th>view_str</th>\n",
       "      <th>Likes</th>\n",
       "      <th>Dislikes</th>\n",
       "      <th>Comments</th>\n",
       "    </tr>\n",
       "  </thead>\n",
       "  <tbody>\n",
       "    <tr>\n",
       "      <th>0</th>\n",
       "      <td>https://www.youtube.com/watch?v=8g6GpkOvxZ8</td>\n",
       "      <td>GATE 2020 Topper | Hitesh Poply (CS, AIR-1) | ...</td>\n",
       "      <td>2020-03-14</td>\n",
       "      <td>46489</td>\n",
       "      <td>views</td>\n",
       "      <td>1700.0</td>\n",
       "      <td>32.0</td>\n",
       "      <td>Coding Intelligence - I am pretty sure ..... G...</td>\n",
       "    </tr>\n",
       "    <tr>\n",
       "      <th>2</th>\n",
       "      <td>https://www.youtube.com/watch?v=MgODUPrkVno</td>\n",
       "      <td>GATE 2020 Computer Science Paper Detailed Solu...</td>\n",
       "      <td>2020-02-08</td>\n",
       "      <td>16927</td>\n",
       "      <td>views</td>\n",
       "      <td>218.0</td>\n",
       "      <td>17.0</td>\n",
       "      <td>sum 123 - Sir profit % ke liye upon me 3000 ky...</td>\n",
       "    </tr>\n",
       "    <tr>\n",
       "      <th>3</th>\n",
       "      <td>https://www.youtube.com/watch?v=MVgCUVf1m90</td>\n",
       "      <td>GATE 2020 AIR 43 Rahul Sharma</td>\n",
       "      <td>2020-06-09</td>\n",
       "      <td>9986</td>\n",
       "      <td>views</td>\n",
       "      <td>584.0</td>\n",
       "      <td>4.0</td>\n",
       "      <td>Akash Gautam - Who is your real Hero??\\nOther ...</td>\n",
       "    </tr>\n",
       "    <tr>\n",
       "      <th>4</th>\n",
       "      <td>https://www.youtube.com/watch?v=ybsh1C8QpY0</td>\n",
       "      <td>How To attempt GATE -Exam-2020 in best way</td>\n",
       "      <td>2019-01-31</td>\n",
       "      <td>306322</td>\n",
       "      <td>views</td>\n",
       "      <td>8200.0</td>\n",
       "      <td>202.0</td>\n",
       "      <td>- By Mistake total no of 2 marks questions is...</td>\n",
       "    </tr>\n",
       "    <tr>\n",
       "      <th>5</th>\n",
       "      <td>https://www.youtube.com/watch?v=fECinEECcqo</td>\n",
       "      <td>GATE 2020 Score vs Opportunities | Suresh VSR</td>\n",
       "      <td>2020-03-14</td>\n",
       "      <td>11682</td>\n",
       "      <td>views</td>\n",
       "      <td>435.0</td>\n",
       "      <td>19.0</td>\n",
       "      <td>VSR Suresh - Thanks students. For the clarific...</td>\n",
       "    </tr>\n",
       "  </tbody>\n",
       "</table>\n",
       "</div>"
      ],
      "text/plain": [
       "                                           url  \\\n",
       "0  https://www.youtube.com/watch?v=8g6GpkOvxZ8   \n",
       "2  https://www.youtube.com/watch?v=MgODUPrkVno   \n",
       "3  https://www.youtube.com/watch?v=MVgCUVf1m90   \n",
       "4  https://www.youtube.com/watch?v=ybsh1C8QpY0   \n",
       "5  https://www.youtube.com/watch?v=fECinEECcqo   \n",
       "\n",
       "                                               Title date_uploaded  views_num  \\\n",
       "0  GATE 2020 Topper | Hitesh Poply (CS, AIR-1) | ...    2020-03-14      46489   \n",
       "2  GATE 2020 Computer Science Paper Detailed Solu...    2020-02-08      16927   \n",
       "3                      GATE 2020 AIR 43 Rahul Sharma    2020-06-09       9986   \n",
       "4         How To attempt GATE -Exam-2020 in best way    2019-01-31     306322   \n",
       "5      GATE 2020 Score vs Opportunities | Suresh VSR    2020-03-14      11682   \n",
       "\n",
       "  view_str   Likes  Dislikes  \\\n",
       "0    views  1700.0      32.0   \n",
       "2    views   218.0      17.0   \n",
       "3    views   584.0       4.0   \n",
       "4    views  8200.0     202.0   \n",
       "5    views   435.0      19.0   \n",
       "\n",
       "                                            Comments  \n",
       "0  Coding Intelligence - I am pretty sure ..... G...  \n",
       "2  sum 123 - Sir profit % ke liye upon me 3000 ky...  \n",
       "3  Akash Gautam - Who is your real Hero??\\nOther ...  \n",
       "4   - By Mistake total no of 2 marks questions is...  \n",
       "5  VSR Suresh - Thanks students. For the clarific...  "
      ]
     },
     "execution_count": 134,
     "metadata": {},
     "output_type": "execute_result"
    }
   ],
   "source": [
    "youtube_clean_data.head()"
   ]
  },
  {
   "cell_type": "code",
   "execution_count": null,
   "metadata": {},
   "outputs": [],
   "source": []
  }
 ],
 "metadata": {
  "kernelspec": {
   "display_name": "Python 3",
   "language": "python",
   "name": "python3"
  },
  "language_info": {
   "codemirror_mode": {
    "name": "ipython",
    "version": 3
   },
   "file_extension": ".py",
   "mimetype": "text/x-python",
   "name": "python",
   "nbconvert_exporter": "python",
   "pygments_lexer": "ipython3",
   "version": "3.12.2"
  }
 },
 "nbformat": 4,
 "nbformat_minor": 2
}
